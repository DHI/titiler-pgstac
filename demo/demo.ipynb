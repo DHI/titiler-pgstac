{
 "cells": [
  {
   "cell_type": "code",
   "execution_count": null,
   "source": [
    "import json\n",
    "import requests\n",
    "from folium import Map, TileLayer, GeoJson\n",
    "\n",
    "endpoint = \"http://0.0.0.0:8082\""
   ],
   "outputs": [],
   "metadata": {}
  },
  {
   "cell_type": "code",
   "execution_count": null,
   "source": [
    "geojson = {\n",
    "  \"type\": \"Feature\",\n",
    "  \"properties\": {},\n",
    "  \"geometry\": {\n",
    "    \"type\": \"Polygon\",\n",
    "    \"coordinates\": [\n",
    "      [\n",
    "        [\n",
    "          -113.8623046875,\n",
    "          31.316101383495624\n",
    "        ],\n",
    "        [\n",
    "          -79.1455078125,\n",
    "          31.316101383495624\n",
    "        ],\n",
    "        [\n",
    "          -79.1455078125,\n",
    "          49.15296965617039\n",
    "        ],\n",
    "        [\n",
    "          -113.8623046875,\n",
    "          49.15296965617039\n",
    "        ],\n",
    "        [\n",
    "          -113.8623046875,\n",
    "          31.316101383495624\n",
    "        ]\n",
    "      ]\n",
    "    ]\n",
    "  }\n",
    "}\n",
    "bounds = (-113.8623046875, 31.316101383495624, -79.1455078125, 49.15296965617039)\n",
    "\n",
    "m = Map(\n",
    "    tiles=\"OpenStreetMap\",\n",
    "    location=((bounds[1] + bounds[3]) / 2,(bounds[0] + bounds[2]) / 2),\n",
    "    zoom_start=4\n",
    ")\n",
    "\n",
    "geo_json = GeoJson(\n",
    "    data=geojson,\n",
    "    style_function=lambda x: {\n",
    "        'opacity': 1, 'dashArray': '1', 'fillOpacity': 0, 'weight': 1\n",
    "    },\n",
    ")\n",
    "geo_json.add_to(m)\n",
    "m"
   ],
   "outputs": [],
   "metadata": {}
  },
  {
   "cell_type": "markdown",
   "source": [
    "### Create Mosaic for the whole collection"
   ],
   "metadata": {}
  },
  {
   "cell_type": "code",
   "execution_count": null,
   "source": [
    "# create Mosaic\n",
    "body = {\n",
    "    \"collections\": [\"landsat-8-c2-l2\"],\n",
    "}\n",
    "\n",
    "r = requests.post(\n",
    "    f\"{endpoint}/create\",\n",
    "    json=body,\n",
    "    params={\n",
    "        # Info to add to the tilejson response\n",
    "        \"minzoom\": 8,\n",
    "        \"maxzoom\": 12,\n",
    "        \"bounds\": \",\".join(map(str, bounds)),\n",
    "        # query parameter to add to the tile URL\n",
    "        \"assets\": \"SR_B1\",\n",
    "        \"rescale\": \"0,20000\",\n",
    "    }\n",
    ").json()\n",
    "print(r)"
   ],
   "outputs": [],
   "metadata": {}
  },
  {
   "cell_type": "code",
   "execution_count": null,
   "source": [
    "m = Map(\n",
    "    location=((bounds[1] + bounds[3]) / 2,(bounds[0] + bounds[2]) / 2),\n",
    "    zoom_start=7\n",
    ")\n",
    "\n",
    "geo_json = GeoJson(\n",
    "    data=geojson,\n",
    "    style_function=lambda x: {\n",
    "        'opacity': 1, 'dashArray': '1', 'fillOpacity': 0, 'weight': 1\n",
    "    },\n",
    ")\n",
    "geo_json.add_to(m)\n",
    "\n",
    "aod_layer = TileLayer(\n",
    "    tiles=r[\"tiles\"][0],\n",
    "    attr=\"Mosaic\",\n",
    "    min_zoom=8,\n",
    "    max_zoom=12,\n",
    "    max_native_zoom=12,    \n",
    ")\n",
    "aod_layer.add_to(m)\n",
    "m"
   ],
   "outputs": [],
   "metadata": {}
  },
  {
   "cell_type": "markdown",
   "source": [
    "### With Date and cloud-cover filter"
   ],
   "metadata": {}
  },
  {
   "cell_type": "code",
   "execution_count": null,
   "source": [
    "# create Mosaic\n",
    "body = {\n",
    "    \"collections\": [\"landsat-8-c2-l2\"],\n",
    "    \"datetime\": \"2018-01-01T00:00:00Z/2018-02-01T23:59:59Z\",\n",
    "    \"query\": {\"eo:cloud_cover\": {\"gt\": 75}}\n",
    "}\n",
    "\n",
    "r = requests.post(\n",
    "    f\"{endpoint}/create\",\n",
    "    json=body,\n",
    "    params={\n",
    "        # Info to add to the tilejson response\n",
    "        \"minzoom\": 8,\n",
    "        \"maxzoom\": 12,\n",
    "        \"bounds\": \",\".join(map(str, bounds)),\n",
    "        # query parameter to add to the tile URL\n",
    "        \"assets\": \"SR_B1\",\n",
    "        \"rescale\": \"0,20000\",\n",
    "    }\n",
    ").json()\n",
    "print(r)"
   ],
   "outputs": [],
   "metadata": {}
  },
  {
   "cell_type": "code",
   "execution_count": null,
   "source": [
    "m = Map(\n",
    "    location=((bounds[1] + bounds[3]) / 2,(bounds[0] + bounds[2]) / 2),\n",
    "    zoom_start=7\n",
    ")\n",
    "\n",
    "geo_json = GeoJson(\n",
    "    data=geojson,\n",
    "    style_function=lambda x: {\n",
    "        'opacity': 1, 'dashArray': '1', 'fillOpacity': 0, 'weight': 1\n",
    "    },\n",
    ")\n",
    "geo_json.add_to(m)\n",
    "\n",
    "aod_layer = TileLayer(\n",
    "    tiles=r[\"tiles\"][0],\n",
    "    attr=\"Mosaic\",\n",
    "    min_zoom=8,\n",
    "    max_zoom=12,\n",
    "    max_native_zoom=12,\n",
    ")\n",
    "aod_layer.add_to(m)\n",
    "m"
   ],
   "outputs": [],
   "metadata": {}
  },
  {
   "cell_type": "code",
   "execution_count": null,
   "source": [],
   "outputs": [],
   "metadata": {}
  }
 ],
 "metadata": {
  "interpreter": {
   "hash": "e5a596c8625da0593f23bdd5ea51ce5c4572779fa5edc69fb6a18fc94feb7fb6"
  },
  "kernelspec": {
   "display_name": "Python 3.8.2 64-bit ('py38': venv)",
   "language": "python",
   "name": "python382jvsc74a57bd0e0a12c78cd70db9ff05ed68287a27ffcdd32788e19bdb884235a47fc6f52d8ad"
  },
  "language_info": {
   "codemirror_mode": {
    "name": "ipython",
    "version": 3
   },
   "file_extension": ".py",
   "mimetype": "text/x-python",
   "name": "python",
   "nbconvert_exporter": "python",
   "pygments_lexer": "ipython3",
   "version": "3.8.2"
  }
 },
 "nbformat": 4,
 "nbformat_minor": 4
}